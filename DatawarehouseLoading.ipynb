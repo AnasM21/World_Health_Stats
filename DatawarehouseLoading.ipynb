{
 "cells": [
  {
   "cell_type": "markdown",
   "id": "7f1944c8",
   "metadata": {},
   "source": [
    "# Libraries Imports \n",
    "## Setting Up DB onnections and destinations files"
   ]
  },
  {
   "cell_type": "markdown",
   "id": "7553b0cd",
   "metadata": {},
   "source": [
    "#creating the tables "
   ]
  },
  {
   "cell_type": "markdown",
   "id": "3179ec02",
   "metadata": {},
   "source": [
    "## Extracting the dimensions , selecting only a limited number of rows due to the large size of the data and loading into the DW"
   ]
  },
  {
   "cell_type": "code",
   "execution_count": 1,
   "id": "be90e270",
   "metadata": {},
   "outputs": [],
   "source": [
    "import pandas as pd\n",
    "import pyodbc\n",
    "from sqlalchemy import *\n",
    "import matplotlib.pyplot as plt\n",
    "svr_name = 'ANAS\\YORUDEV'\n",
    "#stagingDb= 'binatbit' and the datawarhouse = 'dw_v3'\n",
    "# had to delete the staging db due to the disk usage and moved to working on the main db direclty \n",
    "db_name= 'dw_v3'\n",
    "\n",
    "#Connect to SQL Server\n",
    "conn = pyodbc.connect('Driver={SQL Server};'\n",
    "                      'Server=ANAS\\YORUDEV;'\n",
    "                      'Database=dw_v3;'\n",
    "                      'Trusted_Connection=yes;')\n",
    "cursor = conn.cursor()\n",
    "eng = create_engine(\"mssql+pyodbc://\"+svr_name+\"/\"+db_name+\"?driver=SQL+Server\")"
   ]
  },
  {
   "cell_type": "markdown",
   "id": "e439a5cc",
   "metadata": {},
   "source": [
    "## Loading the data to the DW\n",
    "### The choice of 500 samples was due to the storage issue "
   ]
  },
  {
   "cell_type": "code",
   "execution_count": 4,
   "id": "e12e0480",
   "metadata": {
    "scrolled": false
   },
   "outputs": [
    {
     "name": "stdout",
     "output_type": "stream",
     "text": [
      "Adding records to the database is done successfully\n"
     ]
    }
   ],
   "source": [
    "\n",
    "listData = ['roadTrafficDeaths.csv','pharmacists.csv','alcoholSubstanceAbuse.csv','medicalDoctors.csv','crudeSuicideRates.csv']\n",
    "for i in listData:\n",
    "    myData = pd.read_csv(f\"C:/Users/Mars/Desktop/ProjetBI/projectV3/{i}\",sep=';|,',engine='python')\n",
    "    #z.to_sql(i.split(\".\")[0].capitalize(),eng, if_exists='replace',index=False)\n",
    "    \n",
    "    \n",
    "print(\"Adding records to the database is done successfully\")"
   ]
  },
  {
   "cell_type": "code",
   "execution_count": null,
   "id": "8138b674",
   "metadata": {},
   "outputs": [],
   "source": [
    "sql_query = '''\n",
    "SELECT TOP 1000 * \n",
    "FROM \"World Health Facts\"\n",
    "'''\n",
    "pd.read_sql(sql_query,conn)"
   ]
  }
 ],
 "metadata": {
  "kernelspec": {
   "display_name": "Python 3 (ipykernel)",
   "language": "python",
   "name": "python3"
  },
  "language_info": {
   "codemirror_mode": {
    "name": "ipython",
    "version": 3
   },
   "file_extension": ".py",
   "mimetype": "text/x-python",
   "name": "python",
   "nbconvert_exporter": "python",
   "pygments_lexer": "ipython3",
   "version": "3.9.7"
  }
 },
 "nbformat": 4,
 "nbformat_minor": 5
}
